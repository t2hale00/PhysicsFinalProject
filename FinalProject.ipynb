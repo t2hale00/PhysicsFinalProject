{
 "cells": [
  {
   "cell_type": "markdown",
   "metadata": {},
   "source": [
    "Show the following things. \n",
    "\n",
    "A map of movement (Folium)\n",
    "Distance graph (increasing from zero)\n",
    "Velocity graph (calculated from coordinates)\n",
    "Acceleration graph (observed [three components] and calculated from speed [one component]).\n",
    "Note that these will be very different from each other!\n",
    "Average speed as a number\n",
    "Traveled distance as a number\n",
    "The number of steps "
   ]
  },
  {
   "cell_type": "code",
   "execution_count": 17,
   "metadata": {},
   "outputs": [],
   "source": [
    "import pandas as pd\n",
    "import numpy as np\n",
    "import matplotlib.pyplot as plt\n",
    "from math import radians, cos, sin, asin, sqrt\n",
    "import folium"
   ]
  },
  {
   "cell_type": "code",
   "execution_count": 23,
   "metadata": {},
   "outputs": [
    {
     "data": {
      "text/html": [
       "<div style=\"width:100%;\"><div style=\"position:relative;width:100%;height:0;padding-bottom:60%;\"><span style=\"color:#565656\">Make this Notebook Trusted to load map: File -> Trust Notebook</span><iframe srcdoc=\"&lt;!DOCTYPE html&gt;\n",
       "&lt;html&gt;\n",
       "&lt;head&gt;\n",
       "    \n",
       "    &lt;meta http-equiv=&quot;content-type&quot; content=&quot;text/html; charset=UTF-8&quot; /&gt;\n",
       "    \n",
       "        &lt;script&gt;\n",
       "            L_NO_TOUCH = false;\n",
       "            L_DISABLE_3D = false;\n",
       "        &lt;/script&gt;\n",
       "    \n",
       "    &lt;style&gt;html, body {width: 100%;height: 100%;margin: 0;padding: 0;}&lt;/style&gt;\n",
       "    &lt;style&gt;#map {position:absolute;top:0;bottom:0;right:0;left:0;}&lt;/style&gt;\n",
       "    &lt;script src=&quot;https://cdn.jsdelivr.net/npm/leaflet@1.9.3/dist/leaflet.js&quot;&gt;&lt;/script&gt;\n",
       "    &lt;script src=&quot;https://code.jquery.com/jquery-3.7.1.min.js&quot;&gt;&lt;/script&gt;\n",
       "    &lt;script src=&quot;https://cdn.jsdelivr.net/npm/bootstrap@5.2.2/dist/js/bootstrap.bundle.min.js&quot;&gt;&lt;/script&gt;\n",
       "    &lt;script src=&quot;https://cdnjs.cloudflare.com/ajax/libs/Leaflet.awesome-markers/2.0.2/leaflet.awesome-markers.js&quot;&gt;&lt;/script&gt;\n",
       "    &lt;link rel=&quot;stylesheet&quot; href=&quot;https://cdn.jsdelivr.net/npm/leaflet@1.9.3/dist/leaflet.css&quot;/&gt;\n",
       "    &lt;link rel=&quot;stylesheet&quot; href=&quot;https://cdn.jsdelivr.net/npm/bootstrap@5.2.2/dist/css/bootstrap.min.css&quot;/&gt;\n",
       "    &lt;link rel=&quot;stylesheet&quot; href=&quot;https://netdna.bootstrapcdn.com/bootstrap/3.0.0/css/bootstrap.min.css&quot;/&gt;\n",
       "    &lt;link rel=&quot;stylesheet&quot; href=&quot;https://cdn.jsdelivr.net/npm/@fortawesome/fontawesome-free@6.2.0/css/all.min.css&quot;/&gt;\n",
       "    &lt;link rel=&quot;stylesheet&quot; href=&quot;https://cdnjs.cloudflare.com/ajax/libs/Leaflet.awesome-markers/2.0.2/leaflet.awesome-markers.css&quot;/&gt;\n",
       "    &lt;link rel=&quot;stylesheet&quot; href=&quot;https://cdn.jsdelivr.net/gh/python-visualization/folium/folium/templates/leaflet.awesome.rotate.min.css&quot;/&gt;\n",
       "    \n",
       "            &lt;meta name=&quot;viewport&quot; content=&quot;width=device-width,\n",
       "                initial-scale=1.0, maximum-scale=1.0, user-scalable=no&quot; /&gt;\n",
       "            &lt;style&gt;\n",
       "                #map_78d961a4273ba4b67e0cc04f255e11e6 {\n",
       "                    position: relative;\n",
       "                    width: 100.0%;\n",
       "                    height: 100.0%;\n",
       "                    left: 0.0%;\n",
       "                    top: 0.0%;\n",
       "                }\n",
       "                .leaflet-container { font-size: 1rem; }\n",
       "            &lt;/style&gt;\n",
       "        \n",
       "&lt;/head&gt;\n",
       "&lt;body&gt;\n",
       "    \n",
       "    \n",
       "            &lt;div class=&quot;folium-map&quot; id=&quot;map_78d961a4273ba4b67e0cc04f255e11e6&quot; &gt;&lt;/div&gt;\n",
       "        \n",
       "&lt;/body&gt;\n",
       "&lt;script&gt;\n",
       "    \n",
       "    \n",
       "            var map_78d961a4273ba4b67e0cc04f255e11e6 = L.map(\n",
       "                &quot;map_78d961a4273ba4b67e0cc04f255e11e6&quot;,\n",
       "                {\n",
       "                    center: [65.0713748, 25.5161648],\n",
       "                    crs: L.CRS.EPSG3857,\n",
       "                    zoom: 15,\n",
       "                    zoomControl: true,\n",
       "                    preferCanvas: false,\n",
       "                }\n",
       "            );\n",
       "\n",
       "            \n",
       "\n",
       "        \n",
       "    \n",
       "            var tile_layer_d8889ba1718e5b4955050ffe6281cc0b = L.tileLayer(\n",
       "                &quot;https://tile.openstreetmap.org/{z}/{x}/{y}.png&quot;,\n",
       "                {&quot;attribution&quot;: &quot;\\u0026copy; \\u003ca href=\\&quot;https://www.openstreetmap.org/copyright\\&quot;\\u003eOpenStreetMap\\u003c/a\\u003e contributors&quot;, &quot;detectRetina&quot;: false, &quot;maxNativeZoom&quot;: 19, &quot;maxZoom&quot;: 19, &quot;minZoom&quot;: 0, &quot;noWrap&quot;: false, &quot;opacity&quot;: 1, &quot;subdomains&quot;: &quot;abc&quot;, &quot;tms&quot;: false}\n",
       "            );\n",
       "        \n",
       "    \n",
       "            tile_layer_d8889ba1718e5b4955050ffe6281cc0b.addTo(map_78d961a4273ba4b67e0cc04f255e11e6);\n",
       "        \n",
       "    \n",
       "            var poly_line_8d77e8cbc1cd5f3cb6d9640051a328c6 = L.polyline(\n",
       "                [[65.0713748, 25.5161648], [65.071393, 25.5162274], [65.0713979, 25.5162402], [65.0713942, 25.5162636], [65.0713958, 25.5162667], [65.0713902, 25.5162589], [65.0713774, 25.5162368], [65.0713657, 25.5162124], [65.0713454, 25.5161932], [65.0713244, 25.5161766], [65.0713191, 25.5161724], [65.0713059, 25.5161662], [65.0712894, 25.5161606], [65.0712709, 25.5161543], [65.0712533, 25.5161476], [65.0712393, 25.516141], [65.0712357, 25.5161395], [65.0712264, 25.5161303], [65.0712106, 25.5161158], [65.0711894, 25.5161029], [65.0711831, 25.5161023], [65.0711784, 25.5161017], [65.0711716, 25.5160933], [65.0711653, 25.5160871], [65.0711597, 25.5160808], [65.0711547, 25.5160737], [65.0711491, 25.5160664], [65.0711444, 25.516059], [65.0711376, 25.5160494], [65.0711309, 25.5160389], [65.0711221, 25.5160264], [65.0710994, 25.5160127], [65.0710828, 25.5160008], [65.0710695, 25.515993], [65.071058, 25.5159845], [65.0710471, 25.5159758], [65.0710377, 25.5159664], [65.0710289, 25.5159559], [65.0710199, 25.5159438], [65.0710094, 25.5159282], [65.0710065, 25.5159221], [65.0709993, 25.51591], [65.0709932, 25.5158992], [65.0709869, 25.515888], [65.0709814, 25.5158789], [65.0709777, 25.5158717], [65.0709699, 25.5158649], [65.0709665, 25.5158654], [65.0709601, 25.5158593], [65.0709526, 25.5158529], [65.0709453, 25.5158442], [65.0709391, 25.5158362], [65.0709334, 25.5158275], [65.0709279, 25.5158193], [65.0709251, 25.5158141], [65.0709211, 25.5158071], [65.0709156, 25.515798], [65.0709095, 25.5157886], [65.0709046, 25.5157814], [65.0709009, 25.5157755], [65.0708928, 25.5157644], [65.0708892, 25.5157591], [65.07088, 25.5157466], [65.0708737, 25.5157388], [65.0708691, 25.5157322], [65.0708617, 25.5157223], [65.0708559, 25.5157148], [65.0708514, 25.5157093], [65.0708491, 25.5157069], [65.0708428, 25.5156982], [65.0708369, 25.5156909], [65.0708312, 25.5156829], [65.0708252, 25.5156761], [65.0708214, 25.5156709], [65.0708139, 25.5156613], [65.0708115, 25.5156583], [65.0708053, 25.5156501], [65.0708002, 25.515643], [65.0707954, 25.5156353], [65.0707892, 25.5156266], [65.0707848, 25.5156201], [65.0707782, 25.5156129], [65.0707758, 25.51561], [65.0707658, 25.5156005], [65.0707591, 25.5155957], [65.0707537, 25.515587], [65.0707486, 25.5155789], [65.0707436, 25.5155726], [65.0707395, 25.5155668], [65.0707329, 25.5155591], [65.0707298, 25.5155547], [65.0707215, 25.5155441], [65.0707195, 25.5155417], [65.0707141, 25.5155344], [65.0707095, 25.5155282], [65.0707052, 25.5155231], [65.0706992, 25.5155156], [65.0706937, 25.5155084], [65.070688, 25.5155018], [65.0706839, 25.515497], [65.070676, 25.5154882], [65.0706727, 25.5154843], [65.0706681, 25.5154783], [65.0706615, 25.5154704], [65.0706551, 25.5154626], [65.0706446, 25.5154449], [65.0706329, 25.5154252], [65.0706231, 25.5154082], [65.0706153, 25.5153937], [65.0706067, 25.5153789], [65.0705967, 25.5153607], [65.0705877, 25.5153468], [65.0705815, 25.5153344], [65.0705714, 25.5153161], [65.0705643, 25.5153057], [65.0705577, 25.5152955], [65.0705496, 25.5152827], [65.0705398, 25.515268], [65.0705306, 25.5152589], [65.0705243, 25.5152522], [65.0705153, 25.5152432], [65.0705079, 25.5152352], [65.0704954, 25.5152195], [65.0704868, 25.5152094], [65.0704788, 25.5151993], [65.0704698, 25.5151906], [65.0704582, 25.5151772], [65.070449, 25.5151661], [65.0704406, 25.5151558], [65.0704319, 25.5151437], [65.0704229, 25.5151304], [65.0704107, 25.5151119], [65.0704021, 25.5150997], [65.0703944, 25.5150879], [65.0703823, 25.5150764], [65.0703751, 25.5150705], [65.0703685, 25.5150639], [65.0703622, 25.5150572], [65.070352, 25.5150452], [65.0703476, 25.5150399], [65.0703382, 25.5150277], [65.0703309, 25.5150195], [65.0703234, 25.5150105], [65.0703123, 25.5149986], [65.0703056, 25.514991], [65.0702978, 25.5149843], [65.0702898, 25.514976], [65.0702781, 25.5149668], [65.0702726, 25.5149631], [65.0702624, 25.5149561], [65.0702532, 25.5149504], [65.0702452, 25.5149434], [65.070234, 25.5149283], [65.0702268, 25.5149178], [65.0702196, 25.5149088], [65.0702127, 25.5148991], [65.0702009, 25.5148846], [65.0701967, 25.5148789], [65.070187, 25.5148679], [65.0701802, 25.5148608], [65.0701748, 25.5148388], [65.0701649, 25.5148161], [65.0701596, 25.5148013], [65.0701527, 25.5147903], [65.0701466, 25.5147789], [65.070135, 25.5147643], [65.0701306, 25.5147581], [65.0701202, 25.5147488], [65.0701134, 25.5147468], [65.0701043, 25.5147391], [65.0700928, 25.5147211], [65.0700864, 25.5147096], [65.0700725, 25.5147385], [65.0700601, 25.5147535], [65.0700432, 25.5147605], [65.0700359, 25.5147656], [65.0700238, 25.5147647], [65.0700148, 25.5147646], [65.0700059, 25.514762], [65.0699931, 25.5147553], [65.0699857, 25.5147521], [65.0699774, 25.5147485], [65.0699699, 25.5147449], [65.0699616, 25.5147416], [65.0699522, 25.514737], [65.069941, 25.5147326], [65.0699332, 25.5147317], [65.0699256, 25.5147298], [65.0699176, 25.5147281], [65.0699093, 25.5147258], [65.0699013, 25.5147263], [65.0698936, 25.5147254], [65.0698841, 25.514736], [65.0698755, 25.5147405], [65.0698663, 25.5147491], [65.0698577, 25.5147555], [65.069849, 25.5147575], [65.0698364, 25.5147591], [65.0698308, 25.5147605], [65.0698235, 25.5147628], [65.069816, 25.5147619], [65.0698071, 25.5147623], [65.0698017, 25.5147615], [65.0697919, 25.5147592], [65.0697875, 25.5147587], [65.0697771, 25.5147547], [65.0697708, 25.514752], [65.0697639, 25.514748], [65.0697568, 25.514746], [65.06975, 25.5147437], [65.0697434, 25.5147443], [65.0697366, 25.5147427], [65.0697295, 25.5147408], [65.0697227, 25.5147386], [65.0697127, 25.5147345], [65.0697112, 25.5147338], [65.0697041, 25.5147298], [65.0696976, 25.5147265], [65.069689, 25.5147208], [65.0696798, 25.5147163], [65.0696754, 25.514713], [65.0696663, 25.5147093]],\n",
       "                {&quot;bubblingMouseEvents&quot;: true, &quot;color&quot;: &quot;blue&quot;, &quot;dashArray&quot;: null, &quot;dashOffset&quot;: null, &quot;fill&quot;: false, &quot;fillColor&quot;: &quot;blue&quot;, &quot;fillOpacity&quot;: 0.2, &quot;fillRule&quot;: &quot;evenodd&quot;, &quot;lineCap&quot;: &quot;round&quot;, &quot;lineJoin&quot;: &quot;round&quot;, &quot;noClip&quot;: false, &quot;opacity&quot;: 1.0, &quot;smoothFactor&quot;: 1.0, &quot;stroke&quot;: true, &quot;weight&quot;: 3}\n",
       "            ).addTo(map_78d961a4273ba4b67e0cc04f255e11e6);\n",
       "        \n",
       "    \n",
       "            tile_layer_d8889ba1718e5b4955050ffe6281cc0b.addTo(map_78d961a4273ba4b67e0cc04f255e11e6);\n",
       "        \n",
       "&lt;/script&gt;\n",
       "&lt;/html&gt;\" style=\"position:absolute;width:100%;height:100%;left:0;top:0;border:none !important;\" allowfullscreen webkitallowfullscreen mozallowfullscreen></iframe></div></div>"
      ],
      "text/plain": [
       "<folium.folium.Map at 0x2a553268250>"
      ]
     },
     "execution_count": 23,
     "metadata": {},
     "output_type": "execute_result"
    }
   ],
   "source": [
    "\n",
    "# Read the data\n",
    "data = pd.read_csv(\"GPS_data.csv\")  \n",
    "\n",
    "# Create a map centered around the first coordinates\n",
    "map = folium.Map(location=[data['latitude'].iloc[0], data['longitude'].iloc[0]], zoom_start=15)\n",
    "\n",
    "# Add markers for each data point\n",
    "#for index, row in data.iterrows():\n",
    "#    folium.Marker([row['latitude'], row['longitude']], popup=f\"Time: {row['seconds_elapsed']}\").add_to(map)\n",
    "\n",
    "# Draw lines connecting consecutive points\n",
    "folium.PolyLine(locations=data[['latitude', 'longitude']].values, color='blue').add_to(map)\n",
    "\n",
    "# Save the map as an HTML file\n",
    "map.save(\"movement_map.html\")\n",
    "map\n"
   ]
  }
 ],
 "metadata": {
  "kernelspec": {
   "display_name": "Python 3",
   "language": "python",
   "name": "python3"
  },
  "language_info": {
   "codemirror_mode": {
    "name": "ipython",
    "version": 3
   },
   "file_extension": ".py",
   "mimetype": "text/x-python",
   "name": "python",
   "nbconvert_exporter": "python",
   "pygments_lexer": "ipython3",
   "version": "3.10.11"
  }
 },
 "nbformat": 4,
 "nbformat_minor": 2
}
